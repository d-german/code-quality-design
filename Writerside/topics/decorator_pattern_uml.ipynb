{
 "cells": [
  {
   "cell_type": "code",
   "execution_count": null,
   "id": "initial_id",
   "metadata": {
    "collapsed": true
   },
   "outputs": [],
   "source": [
    "%%plantuml\n",
    "@startuml\n",
    "title \"SearchResultReadonlyDecorator - Decorator Pattern\"\n",
    "hide empty members\n",
    "\n",
    "interface ISearchHighlightGenerator {\n",
    "    + GenerateHighlightedContent(query: string, identifier: DocumentIdentifier): string\n",
    "}\n",
    "\n",
    "class SearchHighlightGenerator {\n",
    "    + GenerateHighlightedContent(query: string, identifier: DocumentIdentifier): string\n",
    "}\n",
    "\n",
    "class SearchResultReadonlyDecorator {\n",
    "    - {static} FormElementXPathsToDisable: ImmutableArray<string>\n",
    "    - {static} AttrDisabled: string\n",
    "    - _innerGenerator: ISearchHighlightGenerator\n",
    "    + SearchResultReadonlyDecorator(innerGenerator: ISearchHighlightGenerator)\n",
    "    + GenerateHighlightedContent(query: string, identifier: DocumentIdentifier): string\n",
    "    - {static} SetDisabled(doc: HtmlDocument, xpath: string): void\n",
    "}\n",
    "\n",
    "ISearchHighlightGenerator <|.. SearchHighlightGenerator : implements\n",
    "ISearchHighlightGenerator <|.. SearchResultReadonlyDecorator : implements\n",
    "SearchResultReadonlyDecorator o-- ISearchHighlightGenerator : composition\n",
    "\n",
    "@enduml"
   ]
  }
 ],
 "metadata": {
  "kernelspec": {
   "display_name": "Python 3",
   "language": "python",
   "name": "python3"
  },
  "language_info": {
   "codemirror_mode": {
    "name": "ipython",
    "version": 2
   },
   "file_extension": ".py",
   "mimetype": "text/x-python",
   "name": "python",
   "nbconvert_exporter": "python",
   "pygments_lexer": "ipython2",
   "version": "2.7.6"
  }
 },
 "nbformat": 4,
 "nbformat_minor": 5
}
